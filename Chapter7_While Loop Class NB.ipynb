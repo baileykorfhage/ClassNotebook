{
 "cells": [
  {
   "cell_type": "markdown",
   "metadata": {},
   "source": [
    "# While Loop\n",
    "* The for loop takes a collection of items and executes a block of code once for each item in the collection. \n",
    "* In contrast, the while loop runs as long as, or while, a certain condition is true."
   ]
  },
  {
   "cell_type": "markdown",
   "metadata": {},
   "source": [
    "## The while Loop in Action\n",
    "You can use a while loop to count up through a series of numbers. For\n",
    "example, the following while loop counts from 1 to 5:\n"
   ]
  },
  {
   "cell_type": "code",
   "execution_count": 1,
   "metadata": {},
   "outputs": [
    {
     "name": "stdout",
     "output_type": "stream",
     "text": [
      "1\n",
      "2\n",
      "3\n",
      "4\n",
      "5\n"
     ]
    }
   ],
   "source": [
    "currentnumber=1\n",
    "while currentnumber<=5:\n",
    "    print(currentnumber)\n",
    "    currentnumber+=1 #currentnumber=currentnumber+1"
   ]
  },
  {
   "cell_type": "code",
   "execution_count": 2,
   "metadata": {},
   "outputs": [
    {
     "name": "stdout",
     "output_type": "stream",
     "text": [
      "20\n",
      "21\n",
      "22\n",
      "23\n",
      "24\n",
      "25\n",
      "26\n",
      "27\n",
      "28\n",
      "29\n",
      "30\n"
     ]
    }
   ],
   "source": [
    "number2=20\n",
    "while number2<=30:\n",
    "    print(number2)\n",
    "    number2+=1"
   ]
  },
  {
   "cell_type": "markdown",
   "metadata": {},
   "source": [
    "## Letting the User Choose When to Quit"
   ]
  },
  {
   "cell_type": "code",
   "execution_count": 3,
   "metadata": {},
   "outputs": [
    {
     "name": "stdout",
     "output_type": "stream",
     "text": [
      "Tell me something and I will repeat it back to you. Enter quit to end the program: 5\n",
      "5\n",
      "Tell me something and I will repeat it back to you. Enter quit to end the program: quit\n",
      "quit\n"
     ]
    }
   ],
   "source": [
    "prompt='Tell me something and I will repeat it back to you. Enter quit to end the program: '\n",
    "message= ''\n",
    "while message!='quit':\n",
    "    message=input(prompt)\n",
    "    print(message)"
   ]
  },
  {
   "cell_type": "markdown",
   "metadata": {},
   "source": [
    "## A Flag"
   ]
  },
  {
   "cell_type": "markdown",
   "metadata": {
    "slideshow": {
     "slide_type": "subslide"
    }
   },
   "source": [
    "### For a program that should run only as long as many conditions are true, you can define one variable that determines whether or not the entire program is active. This variable, called a `flag`, acts as a signal to the program."
   ]
  },
  {
   "cell_type": "code",
   "execution_count": 4,
   "metadata": {},
   "outputs": [
    {
     "name": "stdout",
     "output_type": "stream",
     "text": [
      "Echo the code. Enter quit to end the program: 5\n",
      "5\n",
      "Echo the code. Enter quit to end the program: quit\n"
     ]
    }
   ],
   "source": [
    "prompt='Echo the code. Enter quit to end the program: '\n",
    "#flag\n",
    "active=True\n",
    "message = ''\n",
    "while active:\n",
    "    message=input(prompt)\n",
    "    if message=='quit':\n",
    "        active=False\n",
    "    else:\n",
    "        print(message)"
   ]
  },
  {
   "cell_type": "markdown",
   "metadata": {},
   "source": [
    "## Using break to Exit a Loop\n",
    "To exit a while loop immediately without running any remaining code in the\n",
    "loop, regardless of the results of any conditional test, use the break statement."
   ]
  },
  {
   "cell_type": "code",
   "execution_count": 5,
   "metadata": {},
   "outputs": [
    {
     "name": "stdout",
     "output_type": "stream",
     "text": [
      "Enter the name of the cities you want to visit. Enter quit to end the program: sydney\n",
      "I would love to go to Sydney\n",
      "Enter the name of the cities you want to visit. Enter quit to end the program: quit\n"
     ]
    }
   ],
   "source": [
    "prompt='Enter the name of the cities you want to visit. Enter quit to end the program: '\n",
    "active=True\n",
    "while active:\n",
    "    city=input(prompt)\n",
    "    if city=='quit':\n",
    "        break\n",
    "    else:\n",
    "        print('I would love to go to', city.title())"
   ]
  },
  {
   "cell_type": "markdown",
   "metadata": {},
   "source": [
    "### Guess the number"
   ]
  },
  {
   "cell_type": "code",
   "execution_count": 6,
   "metadata": {},
   "outputs": [
    {
     "name": "stdout",
     "output_type": "stream",
     "text": [
      "Guess a number between 1 and 10: 5\n",
      "You did not guess correctly, guess again.\n",
      "Guess a number between 1 and 10: 6\n",
      "You guessed correctly!\n"
     ]
    }
   ],
   "source": [
    "prompt='Guess a number between 1 and 10: '\n",
    "active=True\n",
    "while active:\n",
    "    number=int(input(prompt))\n",
    "    if number==6:\n",
    "        print('You guessed correctly!')\n",
    "        break\n",
    "    else:\n",
    "        print('You did not guess correctly, guess again.')"
   ]
  },
  {
   "cell_type": "markdown",
   "metadata": {},
   "source": [
    "### Guess the number with proper direction"
   ]
  },
  {
   "cell_type": "code",
   "execution_count": 7,
   "metadata": {},
   "outputs": [
    {
     "name": "stdout",
     "output_type": "stream",
     "text": [
      "Guess a number between 1 and 10: 5\n",
      "Guess a higher number.\n",
      "Guess a number between 1 and 10: 6\n",
      "You guessed correctly!\n"
     ]
    }
   ],
   "source": [
    "prompt='Guess a number between 1 and 10: '\n",
    "active=True\n",
    "while active:\n",
    "    number=int(input(prompt))\n",
    "    if number==6:\n",
    "        print('You guessed correctly!')\n",
    "        break\n",
    "    elif number>6:\n",
    "        print('Guess a lower number.')\n",
    "    else:\n",
    "        print('Guess a higher number.')"
   ]
  },
  {
   "cell_type": "markdown",
   "metadata": {},
   "source": [
    "### Break with for loop"
   ]
  },
  {
   "cell_type": "code",
   "execution_count": 8,
   "metadata": {},
   "outputs": [
    {
     "name": "stdout",
     "output_type": "stream",
     "text": [
      "1 2 3 4 5 6 7 8 9 10 11 12 13 14 15 16 17 18 19 20 21 22 23 24 25 26 27 28 29 30 31 32 33 34 35 36 37 38 39 "
     ]
    }
   ],
   "source": [
    "for number in range(1,101):\n",
    "    if number==40:\n",
    "        break\n",
    "    print(number, end=' ')"
   ]
  },
  {
   "cell_type": "markdown",
   "metadata": {},
   "source": [
    "### Using continue in a Loop\n",
    "- Rather than breaking out of a loop entirely without executing the rest of its code, \n",
    "- you can use the continue statement to return to the beginning of the loop based on the result of a conditional test. \n",
    "- For example, consider a loop that counts from 1 to 10 but prints only the odd numbers in that range:"
   ]
  },
  {
   "cell_type": "code",
   "execution_count": 9,
   "metadata": {},
   "outputs": [
    {
     "name": "stdout",
     "output_type": "stream",
     "text": [
      "1 2 3 4 5 6 7 8 9 10 11 12 13 14 15 16 17 18 19 20 21 22 23 24 25 26 27 28 29 30 31 32 33 34 35 36 37 38 39 41 42 43 44 45 46 47 48 49 50 51 52 53 54 55 56 57 58 59 60 61 62 63 64 65 66 67 68 69 70 71 72 73 74 75 76 77 78 79 80 81 82 83 84 85 86 87 88 89 90 91 92 93 94 95 96 97 98 99 100 "
     ]
    }
   ],
   "source": [
    "for number in range(1,101):\n",
    "    if number==40:\n",
    "        continue\n",
    "    print(number, end=' ')"
   ]
  },
  {
   "cell_type": "markdown",
   "metadata": {},
   "source": [
    "### consider a loop (while/for) that counts from 10 to 20 but prints only the even numbers in that range, use continue statement:"
   ]
  },
  {
   "cell_type": "code",
   "execution_count": 10,
   "metadata": {},
   "outputs": [
    {
     "name": "stdout",
     "output_type": "stream",
     "text": [
      "10 12 14 16 18 20 "
     ]
    }
   ],
   "source": [
    "for number in range(10,21):\n",
    "    if number%2==1:\n",
    "        continue\n",
    "    print(number, end=' ')"
   ]
  },
  {
   "cell_type": "code",
   "execution_count": 13,
   "metadata": {},
   "outputs": [
    {
     "name": "stdout",
     "output_type": "stream",
     "text": [
      "1\n",
      "2\n",
      "3\n",
      "4\n",
      "5\n",
      "6\n",
      "7\n",
      "8\n",
      "9\n",
      "10\n",
      "11\n",
      "12\n",
      "13\n",
      "14\n",
      "15\n",
      "16\n",
      "17\n",
      "18\n",
      "19\n",
      "20\n"
     ]
    }
   ],
   "source": [
    "number=1\n",
    "while number<21:\n",
    "    print(number)\n",
    "    number+=1"
   ]
  },
  {
   "cell_type": "markdown",
   "metadata": {},
   "source": [
    "### Avoiding Infinite Loops"
   ]
  },
  {
   "cell_type": "code",
   "execution_count": null,
   "metadata": {},
   "outputs": [],
   "source": []
  },
  {
   "cell_type": "code",
   "execution_count": null,
   "metadata": {},
   "outputs": [],
   "source": []
  },
  {
   "cell_type": "markdown",
   "metadata": {},
   "source": [
    "### Movie Tickets: A movie theater charges different ticket prices depending on a person’s age. \n",
    "- If a person is under the age of 3, the ticket is free; if they are between 3 and 12, the ticket is 10 dollar\n",
    "- if they are over age 12, the ticket is 15 dollar. \n",
    "Write a while loop in which you ask users their age, and then tell them the cost of their movie ticket."
   ]
  },
  {
   "cell_type": "code",
   "execution_count": 12,
   "metadata": {},
   "outputs": [
    {
     "name": "stdout",
     "output_type": "stream",
     "text": [
      "Enter the age, enter quit when finished: 56\n",
      "$15 admission.\n",
      "Enter the age, enter quit when finished: 8\n",
      "$10 admission.\n",
      "Enter the age, enter quit when finished: 2\n",
      "Free admission.\n",
      "Enter the age, enter quit when finished: quit\n"
     ]
    }
   ],
   "source": [
    "prompt='Enter the age, enter quit when finished: '\n",
    "while True:\n",
    "    age=input(prompt)\n",
    "    if age == 'quit':\n",
    "        break\n",
    "    age=int(age)\n",
    "    if age<=3:\n",
    "        print('Free admission.')\n",
    "    elif age <=13:\n",
    "        print('$10 admission.')\n",
    "    else:\n",
    "        print('$15 admission.')"
   ]
  },
  {
   "cell_type": "code",
   "execution_count": null,
   "metadata": {},
   "outputs": [],
   "source": []
  },
  {
   "cell_type": "markdown",
   "metadata": {},
   "source": [
    "## Using a while Loop with Lists and Dictionaries"
   ]
  },
  {
   "cell_type": "markdown",
   "metadata": {},
   "source": [
    "### Moving Items from One List to Another"
   ]
  },
  {
   "cell_type": "code",
   "execution_count": 21,
   "metadata": {},
   "outputs": [
    {
     "name": "stdout",
     "output_type": "stream",
     "text": [
      "Verifying user: Candice\n",
      "Verifying user: Brian\n",
      "Verifying user: Alice\n",
      "Confirmed users:  ['candice', 'brian', 'alice']\n",
      "The following users have been confirmed: \n",
      "Candice\n",
      "Brian\n",
      "Alice\n"
     ]
    }
   ],
   "source": [
    "unconfirmedusers=['alice','brian','candice']\n",
    "confirmedusers= []\n",
    "while unconfirmedusers:\n",
    "    currentuser=unconfirmedusers.pop()\n",
    "    print('Verifying user:', currentuser.title())\n",
    "    confirmedusers.append(currentuser)\n",
    "print('Confirmed users: ', confirmedusers)\n",
    "\n",
    "print('The following users have been confirmed: ')\n",
    "for users in confirmedusers:\n",
    "    print(users.title())"
   ]
  },
  {
   "cell_type": "markdown",
   "metadata": {},
   "source": [
    "### Removing All Instances of Specific Values from a List"
   ]
  },
  {
   "cell_type": "code",
   "execution_count": 24,
   "metadata": {},
   "outputs": [
    {
     "name": "stdout",
     "output_type": "stream",
     "text": [
      "['goldfish', 'rabbit']\n"
     ]
    }
   ],
   "source": [
    "pets =['dog', 'cat', 'dog', 'goldfish', 'cat', 'rabbit', 'cat']\n",
    "while 'cat' in pets:\n",
    "    pets.remove('cat')\n",
    "while 'dog' in pets:\n",
    "    pets.remove('dog')\n",
    "print(pets)"
   ]
  },
  {
   "cell_type": "markdown",
   "metadata": {},
   "source": [
    "### Filling a Dictionary with User Input"
   ]
  },
  {
   "cell_type": "code",
   "execution_count": 28,
   "metadata": {},
   "outputs": [
    {
     "name": "stdout",
     "output_type": "stream",
     "text": [
      "Enter your name: bailey\n",
      "Which country would you like to visit? australia\n",
      "Would you like to let another person respond? ya\n",
      "Enter your name: ryan\n",
      "Which country would you like to visit? spain\n",
      "Would you like to let another person respond? no\n",
      "Polling results: \n",
      "Bailey would like to visit Australia\n",
      "Ryan would like to visit Spain\n"
     ]
    }
   ],
   "source": [
    "responses ={}\n",
    "# set a flag to true\n",
    "polling_active=True\n",
    "while polling_active:\n",
    "    name=input('Enter your name: ')\n",
    "    place=input('Which country would you like to visit? ')\n",
    "    #store the input in the dict\n",
    "    responses[name]=place\n",
    "    \n",
    "    #find out is anyone else is going to take the poll\n",
    "    repeat=input('Would you like to let another person respond? ')\n",
    "    if repeat=='no':\n",
    "        polling_active=False\n",
    "        \n",
    "#polling complete\n",
    "print('Polling results: ')\n",
    "for name,place in responses.items():\n",
    "    print(name.title() + ' would like to visit ' + place.title())"
   ]
  },
  {
   "cell_type": "markdown",
   "metadata": {},
   "source": [
    "## Create a dictionary with your name and your favorite food. You can add more entries into the dictionary and print the dictionary."
   ]
  },
  {
   "cell_type": "code",
   "execution_count": 31,
   "metadata": {},
   "outputs": [
    {
     "name": "stdout",
     "output_type": "stream",
     "text": [
      "Enter your name: bailey\n",
      "What is your favorite food? cheesecake\n",
      "Would you like to let another person respond? ryan\n",
      "Enter your name: ryan\n",
      "What is your favorite food? pizza\n",
      "Would you like to let another person respond? no\n",
      "Polling results: \n",
      "Bailey's favorite food is cheesecake\n",
      "Ryan's favorite food is pizza\n",
      "{'bailey': 'cheesecake', 'ryan': 'pizza'}\n"
     ]
    }
   ],
   "source": [
    "responses ={}\n",
    "active=True\n",
    "while active:\n",
    "    name=input('Enter your name: ')\n",
    "    food=input('What is your favorite food? ')\n",
    "    responses[name]=food\n",
    "    repeat=input('Would you like to let another person respond? ')\n",
    "    if repeat=='no':\n",
    "        active=False\n",
    "print('Polling results: ')\n",
    "for name,food in responses.items():\n",
    "    print(name.title() + \"'s favorite food is \" + food)\n",
    "print(responses)"
   ]
  },
  {
   "cell_type": "markdown",
   "metadata": {},
   "source": [
    "## Deli: Make a list called sandwich_orders and fill it with the names of various sandwiches. \n",
    "- Then make an empty list called finished_sandwiches. \n",
    "- Loop through the list of sandwich orders and print a message for each order, such as I made your tuna sandwich. \n",
    "- As each sandwich is made, move it to the list of finished sandwiches. \n",
    "- After all the sandwiches have been made, print a message listing each sandwich that was made."
   ]
  },
  {
   "cell_type": "code",
   "execution_count": 22,
   "metadata": {},
   "outputs": [
    {
     "name": "stdout",
     "output_type": "stream",
     "text": [
      "I made your Grilled Cheese\n",
      "I made your Turkey On Rye\n",
      "I made your Ham And Cheese\n",
      "The following sandwiches are ready: \n",
      "Grilled Cheese\n",
      "Turkey On Rye\n",
      "Ham And Cheese\n"
     ]
    }
   ],
   "source": [
    "unfinished=['ham and cheese','turkey on rye','grilled cheese']\n",
    "finishedsandwich= []\n",
    "while unfinished:\n",
    "    currentsand=unfinished.pop()\n",
    "    print('I made your', currentsand.title())\n",
    "    finishedsandwich.append(currentsand)\n",
    "print('The following sandwiches are ready: ')\n",
    "for sand in finishedsandwich:\n",
    "    print(sand.title())"
   ]
  },
  {
   "cell_type": "markdown",
   "metadata": {},
   "source": [
    "## Write a program to print n natural number in descending order using a while loop.\n"
   ]
  },
  {
   "cell_type": "code",
   "execution_count": 33,
   "metadata": {},
   "outputs": [
    {
     "name": "stdout",
     "output_type": "stream",
     "text": [
      "Enter the range: 10\n",
      "10\n",
      "9\n",
      "8\n",
      "7\n",
      "6\n",
      "5\n",
      "4\n",
      "3\n",
      "2\n",
      "1\n"
     ]
    }
   ],
   "source": [
    "n = int(input('Enter the range: '))\n",
    "while n!=0:\n",
    "    print(n)\n",
    "    n=n-1"
   ]
  },
  {
   "cell_type": "markdown",
   "metadata": {},
   "source": [
    "## Factorial of a number"
   ]
  },
  {
   "cell_type": "code",
   "execution_count": 46,
   "metadata": {},
   "outputs": [
    {
     "name": "stdout",
     "output_type": "stream",
     "text": [
      "Enter a number: 5\n",
      "120\n"
     ]
    }
   ],
   "source": [
    "n=int(input(\"Enter a number: \"))\n",
    "factorial=1\n",
    "while (n):\n",
    "    factorial=factorial*n\n",
    "    n=n-1\n",
    "print(factorial)"
   ]
  },
  {
   "cell_type": "markdown",
   "metadata": {},
   "source": [
    "## Take 10 integers from keyboard using loop and print their sum and average value on the screen"
   ]
  },
  {
   "cell_type": "code",
   "execution_count": 47,
   "metadata": {},
   "outputs": [
    {
     "name": "stdout",
     "output_type": "stream",
     "text": [
      "Enter the number: 4\n",
      "Enter the number: 5\n",
      "Enter the number: 8\n",
      "Enter the number: 9\n",
      "Enter the number: 28\n",
      "Enter the number: 60\n",
      "Enter the number: 59\n",
      "Enter the number: 34\n",
      "Enter the number: 55\n",
      "Enter the number: 27\n",
      "The sum is 289\n",
      "The average is 28.9\n"
     ]
    }
   ],
   "source": [
    "sum=0\n",
    "i=1\n",
    "while i<11:\n",
    "    num=int(input('Enter the number: '))\n",
    "    sum=sum+num\n",
    "    i=i+1\n",
    "print('The sum is',sum)\n",
    "print('The average is', sum/10)"
   ]
  },
  {
   "cell_type": "markdown",
   "metadata": {},
   "source": [
    "## Take 5 integers from user using loop and print their multiplication on the screen"
   ]
  },
  {
   "cell_type": "code",
   "execution_count": 48,
   "metadata": {},
   "outputs": [
    {
     "name": "stdout",
     "output_type": "stream",
     "text": [
      "Enter a number: 4\n",
      "Enter a number: 5\n",
      "Enter a number: 6\n",
      "Enter a number: 7\n",
      "Enter a number: 8\n",
      "The product is 6720\n"
     ]
    }
   ],
   "source": [
    "product=1\n",
    "x=1\n",
    "while x<6:\n",
    "    number=int(input('Enter a number: '))\n",
    "    product=product*number\n",
    "    x=x+1\n",
    "print('The product is', product)"
   ]
  },
  {
   "attachments": {
    "image.png": {
     "image/png": "[encoded data removed]"
    }
   },
   "cell_type": "markdown",
   "metadata": {},
   "source": [
    "## Print the following patterns using loop :\n",
    "![image.png](attachment:image.png)"
   ]
  },
  {
   "cell_type": "code",
   "execution_count": 34,
   "metadata": {},
   "outputs": [
    {
     "name": "stdout",
     "output_type": "stream",
     "text": [
      "*\n",
      "**\n",
      "***\n",
      "****\n"
     ]
    }
   ],
   "source": [
    "i=1\n",
    "while i<=4:\n",
    "    print(i*'*')\n",
    "    i=i+1"
   ]
  },
  {
   "cell_type": "markdown",
   "metadata": {},
   "source": [
    "## Write a program to display the first 7 multiples of 7.\n"
   ]
  },
  {
   "cell_type": "code",
   "execution_count": 37,
   "metadata": {},
   "outputs": [
    {
     "name": "stdout",
     "output_type": "stream",
     "text": [
      "0\n",
      "7\n",
      "14\n",
      "21\n",
      "28\n",
      "35\n",
      "42\n",
      "49\n"
     ]
    }
   ],
   "source": [
    "count=0\n",
    "for m in range(200):\n",
    "    if m%7==0:\n",
    "        print(m)\n",
    "        count=count+1\n",
    "        if count==8:\n",
    "            break\n",
    "        "
   ]
  },
  {
   "cell_type": "markdown",
   "metadata": {},
   "source": [
    "## Write a program that appends the square of each number to a new list."
   ]
  },
  {
   "cell_type": "code",
   "execution_count": 50,
   "metadata": {},
   "outputs": [
    {
     "name": "stdout",
     "output_type": "stream",
     "text": [
      "[1, 4, 9, 16, 25, 36]\n"
     ]
    }
   ],
   "source": [
    "sq=[1,2,3,4,5,6]\n",
    "emp=[]\n",
    "for i in range(len(sq)):\n",
    "    emp.append(sq[i]**2)\n",
    "print(emp)"
   ]
  },
  {
   "cell_type": "markdown",
   "metadata": {},
   "source": [
    "## Separate positive and negative number from a list.\n",
    "x = [23,12,-4,23,-9,21,3,-45,-8]"
   ]
  },
  {
   "cell_type": "code",
   "execution_count": 45,
   "metadata": {},
   "outputs": [
    {
     "name": "stdout",
     "output_type": "stream",
     "text": [
      "Positive numbers:  [23, 12, 23, 21, 3]\n",
      "Negative nubmers:  [-4, -9, -45, -8]\n"
     ]
    }
   ],
   "source": [
    "x = [23,12,-4,23,-9,21,3,-45,-8]\n",
    "pos = []\n",
    "neg = []\n",
    "for i in range(len(x)):\n",
    "    if x[i]<0:\n",
    "        neg.append(x[i])\n",
    "    else:\n",
    "        pos.append(x[i])\n",
    "print('Positive numbers: ', pos)\n",
    "print('Negative nubmers: ', neg)"
   ]
  }
 ],
 "metadata": {
  "celltoolbar": "Slideshow",
  "kernelspec": {
   "display_name": "Python 3 (ipykernel)",
   "language": "python",
   "name": "python3"
  },
  "language_info": {
   "codemirror_mode": {
    "name": "ipython",
    "version": 3
   },
   "file_extension": ".py",
   "mimetype": "text/x-python",
   "name": "python",
   "nbconvert_exporter": "python",
   "pygments_lexer": "ipython3",
   "version": "3.9.12"
  }
 },
 "nbformat": 4,
 "nbformat_minor": 2
}
