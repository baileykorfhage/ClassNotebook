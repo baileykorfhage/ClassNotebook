{
 "cells": [
  {
   "cell_type": "markdown",
   "id": "4ef4485e",
   "metadata": {},
   "source": [
    "# Ch9 Classes"
   ]
  },
  {
   "cell_type": "markdown",
   "id": "7b465366",
   "metadata": {},
   "source": [
    "### Python is an object oriented programming language.\n",
    "- Almost everything in Python is an object, with its properties and methods (Functions).\n",
    "- A Class is like an object constructor, or a \"blueprint\" for creating objects."
   ]
  },
  {
   "cell_type": "code",
   "execution_count": 1,
   "id": "741b88de",
   "metadata": {},
   "outputs": [
    {
     "name": "stdout",
     "output_type": "stream",
     "text": [
      "Angel\n",
      "Hill\n",
      "Employee full name: Angel Hill\n",
      "Employee full name: Peter White\n"
     ]
    }
   ],
   "source": [
    "class Employee():\n",
    "    # init is the constructor of the class\n",
    "    # self is used to represent the instance of a class\n",
    "    def __init__(self, firstname, lastname, age, department): # method/function\n",
    "        self.firstname=firstname.title()\n",
    "        self.lastname=lastname.title()\n",
    "        self.age=age\n",
    "        self.department=department.title()\n",
    "        \n",
    "    def fullname(self):\n",
    "        return f'Employee full name: {self.firstname} {self.lastname}'\n",
    "        \n",
    "emp_1=Employee('angel', 'hill', 22, 'accounting')\n",
    "emp_2=Employee('peter', 'white', 44, 'finance')\n",
    "print(emp_1.firstname)\n",
    "print(emp_1.lastname)\n",
    "print(emp_1.fullname())\n",
    "print(emp_2.fullname())\n",
    "# print(f'Employee full name: {emp_1.firstname} {emp_1.lastname}')"
   ]
  },
  {
   "cell_type": "markdown",
   "id": "5d60f7c0",
   "metadata": {},
   "source": [
    "### Creating the Dog Class\n",
    "Each instance created from the Dog class will store a name and an age, and we’ll give each dog the ability to sit() and roll_over():"
   ]
  },
  {
   "cell_type": "code",
   "execution_count": 2,
   "id": "6e84155c",
   "metadata": {},
   "outputs": [],
   "source": [
    "class Dog():\n",
    "    def __init__(self, name, age):\n",
    "        self.name=name\n",
    "        self.age=age\n",
    "        \n",
    "    def sit(self):\n",
    "        print(f'{self.name} is now sitting')\n",
    "        \n",
    "    def rollover(self):\n",
    "        print(f'{self.name} is now rolling over')"
   ]
  },
  {
   "cell_type": "code",
   "execution_count": 3,
   "id": "3c70e9c0",
   "metadata": {},
   "outputs": [
    {
     "name": "stdout",
     "output_type": "stream",
     "text": [
      "Rebel\n",
      "8\n",
      "Ellie\n",
      "8\n",
      "Rebel is now sitting\n",
      "Ellie is now rolling over\n"
     ]
    }
   ],
   "source": [
    "dog_1=Dog('Rebel', 8)\n",
    "dog_2=Dog('Ellie', 8)\n",
    "\n",
    "print(dog_1.name)\n",
    "print(dog_1.age)\n",
    "print(dog_2.name)\n",
    "print(dog_2.age)\n",
    "dog_1.sit()\n",
    "dog_2.rollover()"
   ]
  },
  {
   "cell_type": "markdown",
   "id": "8bbcc5c0",
   "metadata": {},
   "source": [
    "#### Note:\n",
    "- By convention, capitalized names refer to classes in Python. \n",
    "- The parentheses in the class definition are empty because we’re creating this class from scratch.\n",
    "- All classes have a function called __init__(), which is always executed when the class is being initiated.\n",
    "- Use the __init__() function to assign values to object properties, or other operations that are necessary to do when the object is being created\n",
    "- Any variable prefixed with `self` is available to every method in the class, and we’ll also be able to access these variables through any instance created from the class.\n",
    "- The Dog class has two other methods defined: sit() and roll_over().Because these methods don’t need additional information like a name or age, we just define them to have one parameter, self."
   ]
  },
  {
   "cell_type": "markdown",
   "id": "402f0696",
   "metadata": {},
   "source": [
    "### Restaurant: Make a class called Restaurant. The __init__() method for Restaurant should store two attributes: a restaurant_name and a cuisine_type.\n",
    "- Make a method called `describe_restaurant()` that prints name of teh restrurent and the cuisine type\n",
    "- and a method called open_restaurant() that prints a message indicating that the restaurant is open.\n",
    "- Make an instance called restaurant from your class. Print the two attributes individually, and then call both methods.\n"
   ]
  },
  {
   "cell_type": "code",
   "execution_count": 4,
   "id": "c4316b2d",
   "metadata": {},
   "outputs": [
    {
     "name": "stdout",
     "output_type": "stream",
     "text": [
      "Miguel'S\n",
      "italian\n",
      "El Nopal\n",
      "mexican\n",
      "Joy Luck\n",
      "chinese\n"
     ]
    }
   ],
   "source": [
    "class Restaurant():\n",
    "    def __init__(self,name,cuisine):\n",
    "        self.name=name.title()\n",
    "        self.cuisine=cuisine\n",
    "        \n",
    "    def describe_restaurant(self):\n",
    "        print( f'{self.name} has {self.cuisine} food.')\n",
    "    \n",
    "    def open_rest(self):\n",
    "        print (f'{self.name} is now open.')\n",
    "    \n",
    "rest1=Restaurant(\"Miguel's\", 'italian')\n",
    "rest2=Restaurant('El nopal', 'mexican')\n",
    "rest3=Restaurant('joy luck', 'chinese')\n",
    "\n",
    "print(rest1.name)\n",
    "print(rest1.cuisine)\n",
    "print(rest2.name)\n",
    "print(rest2.cuisine)\n",
    "print(rest3.name)\n",
    "print(rest3.cuisine)"
   ]
  },
  {
   "cell_type": "markdown",
   "id": "8b4a4fca",
   "metadata": {},
   "source": [
    "### - Create three different instances from the class, and call describe_restaurant() for each instance."
   ]
  },
  {
   "cell_type": "code",
   "execution_count": 5,
   "id": "b3845fe0",
   "metadata": {},
   "outputs": [
    {
     "name": "stdout",
     "output_type": "stream",
     "text": [
      "Miguel'S has italian food.\n",
      "Miguel'S is now open.\n"
     ]
    }
   ],
   "source": [
    "rest1=Restaurant(\"Miguel's\", 'italian')\n",
    "rest1.describe_restaurant()\n",
    "rest1.open_rest()"
   ]
  },
  {
   "cell_type": "code",
   "execution_count": 6,
   "id": "e6aa8a33",
   "metadata": {},
   "outputs": [
    {
     "name": "stdout",
     "output_type": "stream",
     "text": [
      "El Nopal has mexican food.\n",
      "El Nopal is now open.\n"
     ]
    }
   ],
   "source": [
    "rest2=Restaurant('El nopal', 'mexican')\n",
    "rest2.describe_restaurant()\n",
    "rest2.open_rest()"
   ]
  },
  {
   "cell_type": "code",
   "execution_count": 7,
   "id": "6b24e6f1",
   "metadata": {},
   "outputs": [
    {
     "name": "stdout",
     "output_type": "stream",
     "text": [
      "Joy Luck has chinese food.\n",
      "Joy Luck is now open.\n"
     ]
    }
   ],
   "source": [
    "rest3=Restaurant('joy luck', 'chinese')\n",
    "rest3.describe_restaurant()\n",
    "rest3.open_rest()"
   ]
  },
  {
   "cell_type": "markdown",
   "id": "8f4032c6",
   "metadata": {},
   "source": [
    "### Users: Make a class called User. Create attributes called first_name and last_name, username, location \n",
    "- Make a method called describe_user() that prints a summary of the user’s information. \n",
    "- Make another method called greet_user() that prints a personalized greeting to the user.\n",
    "- Create several instances representing different users, and call both methods for each user."
   ]
  },
  {
   "cell_type": "code",
   "execution_count": 8,
   "id": "dda94ce2",
   "metadata": {},
   "outputs": [],
   "source": [
    "class User():\n",
    "    def __init__(self, first, last, username, location):\n",
    "        self.first=first.title()\n",
    "        self.last=last.title()\n",
    "        self.username=username\n",
    "        self.location=location.title()\n",
    "        \n",
    "    def describe_user(self):\n",
    "        print(f'\\nInformation for {self.first} {self.last}: \\nUsername: {self.username} \\nLocation: {self.location}')\n",
    "        \n",
    "    def greeting(self):\n",
    "        print(f'\\nHello {self.first} {self.last}, Welcome back!')"
   ]
  },
  {
   "cell_type": "code",
   "execution_count": 9,
   "id": "8864d617",
   "metadata": {},
   "outputs": [
    {
     "name": "stdout",
     "output_type": "stream",
     "text": [
      "\n",
      "Information for Meredith Grey: \n",
      "Username: mgrey \n",
      "Location: Seattle\n",
      "\n",
      "Hello Meredith Grey, Welcome back!\n",
      "\n",
      "Information for Chandler Bing: \n",
      "Username: funnyguy \n",
      "Location: New York City\n",
      "\n",
      "Hello Chandler Bing, Welcome back!\n",
      "\n",
      "Information for Alicia Florrick: \n",
      "Username: graceandzach \n",
      "Location: Chicago\n",
      "\n",
      "Hello Alicia Florrick, Welcome back!\n"
     ]
    }
   ],
   "source": [
    "user1=User('meredith', 'grey', 'mgrey', 'seattle')\n",
    "user2=User('chandler', 'bing', 'funnyguy', 'new york city')\n",
    "user3=User('alicia', 'florrick', 'graceandzach', 'chicago')\n",
    "\n",
    "user1.describe_user()\n",
    "user1.greeting()\n",
    "user2.describe_user()\n",
    "user2.greeting()\n",
    "user3.describe_user()\n",
    "user3.greeting()"
   ]
  },
  {
   "cell_type": "markdown",
   "id": "8b5bfff2",
   "metadata": {},
   "source": [
    "## Setting a Default Value for an Attribute"
   ]
  },
  {
   "cell_type": "code",
   "execution_count": 10,
   "id": "bbdc7a10",
   "metadata": {},
   "outputs": [],
   "source": [
    "class car():\n",
    "    def __init__(self, make, model, year):\n",
    "        self.make=make\n",
    "        self.model=model\n",
    "        self.year=year\n",
    "        self.odometer_reading=0\n",
    "        \n",
    "    def description(self):\n",
    "        longname=str(self.year) + ' ' + self.make + ' ' + self.model\n",
    "        return longname.title()\n",
    "    \n",
    "    def odometer(self):\n",
    "        print(f'The car has {self.odometer_reading} miles on it')\n",
    "        \n",
    "    def updateodo(self,mileage):\n",
    "        self.odometer_reading=mileage"
   ]
  },
  {
   "cell_type": "code",
   "execution_count": 11,
   "id": "35859896",
   "metadata": {},
   "outputs": [
    {
     "name": "stdout",
     "output_type": "stream",
     "text": [
      "The car has 0 miles on it\n"
     ]
    }
   ],
   "source": [
    "mycar=car('hyundai','elantra',2015)\n",
    "mycar.description()\n",
    "mycar.odometer()"
   ]
  },
  {
   "cell_type": "code",
   "execution_count": 12,
   "id": "9ea6316b",
   "metadata": {},
   "outputs": [],
   "source": [
    "mycar.updateodo(40)"
   ]
  },
  {
   "cell_type": "code",
   "execution_count": 13,
   "id": "bb7513ee",
   "metadata": {},
   "outputs": [
    {
     "name": "stdout",
     "output_type": "stream",
     "text": [
      "The car has 40 miles on it\n"
     ]
    }
   ],
   "source": [
    "mycar.odometer()"
   ]
  },
  {
   "cell_type": "markdown",
   "id": "3f840f3e",
   "metadata": {},
   "source": [
    "#### Modifying an Attribute’s Value Directly"
   ]
  },
  {
   "cell_type": "code",
   "execution_count": null,
   "id": "6f8fa540",
   "metadata": {},
   "outputs": [],
   "source": []
  },
  {
   "cell_type": "code",
   "execution_count": null,
   "id": "2f382418",
   "metadata": {},
   "outputs": [],
   "source": []
  },
  {
   "cell_type": "markdown",
   "id": "27f8f244",
   "metadata": {},
   "source": [
    "### Modifying an Attribute’s Value Through a Method"
   ]
  },
  {
   "cell_type": "code",
   "execution_count": null,
   "id": "9b3ae956",
   "metadata": {},
   "outputs": [],
   "source": []
  },
  {
   "cell_type": "code",
   "execution_count": null,
   "id": "3c3c57c2",
   "metadata": {},
   "outputs": [],
   "source": []
  },
  {
   "cell_type": "markdown",
   "id": "fd560131",
   "metadata": {},
   "source": [
    "### Incrementing an Attribute’s Value Through a Method"
   ]
  },
  {
   "cell_type": "code",
   "execution_count": null,
   "id": "8d76b884",
   "metadata": {},
   "outputs": [],
   "source": []
  },
  {
   "cell_type": "code",
   "execution_count": null,
   "id": "1500c7e7",
   "metadata": {},
   "outputs": [],
   "source": []
  },
  {
   "cell_type": "markdown",
   "id": "b96f0d18",
   "metadata": {},
   "source": [
    "# Inheritance\n",
    "- You don’t always have to start from scratch when writing a class. If the class you’re writing is a specialized version of another class you wrote, you can use inheritance. \n",
    "- When one class inherits from another, it automatically takes on all the attributes and methods of the first class. The original class is called the `parent class`, and the new class is the `child class`. \n",
    "- The child class inherits every attribute and method from its parent class but is also free to define new attributes and methods of its own."
   ]
  },
  {
   "cell_type": "markdown",
   "id": "196a0f0e",
   "metadata": {},
   "source": [
    "### Parent Class"
   ]
  },
  {
   "cell_type": "code",
   "execution_count": 14,
   "id": "5b7c3efd",
   "metadata": {},
   "outputs": [],
   "source": [
    "class car():\n",
    "    def __init__(self, make, model, year):\n",
    "        self.make=make\n",
    "        self.model=model\n",
    "        self.year=year\n",
    "        self.odometer_reading=0\n",
    "        \n",
    "    def description(self):\n",
    "        longname=str(self.year) + ' ' + self.make + ' ' + self.model\n",
    "        return longname.title()\n",
    "    \n",
    "    def odometer(self):\n",
    "        print(f'The car has {self.odometer_reading} miles on it')\n",
    "        \n",
    "    def updateodo(self,mileage):\n",
    "        self.odometer_reading=mileage"
   ]
  },
  {
   "cell_type": "markdown",
   "id": "4ed379fa",
   "metadata": {},
   "source": [
    "### Child Class"
   ]
  },
  {
   "cell_type": "code",
   "execution_count": 15,
   "id": "34de9649",
   "metadata": {},
   "outputs": [],
   "source": [
    "class ElectricCar(car):\n",
    "    def __init__(self,make,model,year):\n",
    "        super().__init__(make,model,year) #inherit the parent class attributes"
   ]
  },
  {
   "cell_type": "code",
   "execution_count": 16,
   "id": "8e0bdf9c",
   "metadata": {},
   "outputs": [
    {
     "name": "stdout",
     "output_type": "stream",
     "text": [
      "2021 Tesla X\n"
     ]
    }
   ],
   "source": [
    "my_Tesla=ElectricCar('Tesla', 'X',2021)\n",
    "print(my_Tesla.description())"
   ]
  },
  {
   "cell_type": "markdown",
   "id": "5b594c20",
   "metadata": {},
   "source": [
    "### Practice: Create a class named Person, with firstname and lastname properties, and a printname method:"
   ]
  },
  {
   "cell_type": "code",
   "execution_count": 17,
   "id": "681edaaf",
   "metadata": {},
   "outputs": [],
   "source": [
    "class Person():\n",
    "    def __init__(self,first,last):\n",
    "        self.first=first.title()\n",
    "        self.last=last.title()\n",
    "    \n",
    "    def name(self):\n",
    "        print(f\"The person's name is {self.first} {self.last}\")"
   ]
  },
  {
   "cell_type": "code",
   "execution_count": 18,
   "id": "9d3a0e56",
   "metadata": {},
   "outputs": [
    {
     "name": "stdout",
     "output_type": "stream",
     "text": [
      "The person's name is John Smith\n"
     ]
    }
   ],
   "source": [
    "person1=Person('john', 'smith')\n",
    "person1.name()"
   ]
  },
  {
   "cell_type": "code",
   "execution_count": 19,
   "id": "b75d7a0a",
   "metadata": {},
   "outputs": [
    {
     "name": "stdout",
     "output_type": "stream",
     "text": [
      "The person's name is Barney Stinson\n"
     ]
    }
   ],
   "source": [
    "person2=Person('barney','Stinson')\n",
    "person2.name()"
   ]
  },
  {
   "cell_type": "markdown",
   "id": "a8023470",
   "metadata": {},
   "source": [
    "### Create child classes called Student using Inheritance contains the first and last name and the graduation year \n",
    "- Add a method called `welcome` that prints the student graduation year\n",
    "- Test the student method for two students"
   ]
  },
  {
   "cell_type": "code",
   "execution_count": 20,
   "id": "8a1571d5",
   "metadata": {},
   "outputs": [],
   "source": [
    "class Student(Person):\n",
    "    def __init__(self,first,last,grad):\n",
    "        super().__init__(first,last)\n",
    "        self.grad=grad\n",
    "        \n",
    "    def welcome(self):\n",
    "        print(f\"Welcome {self.first} {self.last} to the class of {self.grad}\")"
   ]
  },
  {
   "cell_type": "code",
   "execution_count": 21,
   "id": "5816f6a4",
   "metadata": {},
   "outputs": [
    {
     "name": "stdout",
     "output_type": "stream",
     "text": [
      "Welcome Richard Weber to the class of 2025\n"
     ]
    }
   ],
   "source": [
    "student1=Student('richard', 'weber', 2025)\n",
    "student1.welcome()"
   ]
  },
  {
   "cell_type": "code",
   "execution_count": 22,
   "id": "7ef3fe8f",
   "metadata": {},
   "outputs": [
    {
     "name": "stdout",
     "output_type": "stream",
     "text": [
      "Welcome Judy Hops to the class of 2026\n"
     ]
    }
   ],
   "source": [
    "student2=Student('judy', 'hops', 2026)\n",
    "student2.welcome()"
   ]
  },
  {
   "cell_type": "markdown",
   "id": "7012d1e5",
   "metadata": {},
   "source": [
    "## Create a rectangle and square classes and create methods for calculating area and perimeter"
   ]
  },
  {
   "cell_type": "code",
   "execution_count": 23,
   "id": "9b2ff42a",
   "metadata": {},
   "outputs": [],
   "source": [
    "class rect():\n",
    "    def __init__(self,length,width):\n",
    "        self.length=length\n",
    "        self.width=width\n",
    "        \n",
    "    def rarea(self):\n",
    "        return self.length*self.width\n",
    "        \n",
    "    def rperim(self):\n",
    "        return (self.length*2)+(self.width*2)\n",
    "        \n",
    "class sq():\n",
    "    def __init__(self,side):\n",
    "        self.side=side\n",
    "        \n",
    "    def sarea(self):\n",
    "        return self.side**2\n",
    "        \n",
    "    def sperim(self):\n",
    "        return self.side*4"
   ]
  },
  {
   "cell_type": "code",
   "execution_count": 24,
   "id": "540d84ff",
   "metadata": {},
   "outputs": [
    {
     "data": {
      "text/plain": [
       "180"
      ]
     },
     "execution_count": 24,
     "metadata": {},
     "output_type": "execute_result"
    }
   ],
   "source": [
    "rect1=rect(12,15)\n",
    "rect1.rarea()"
   ]
  },
  {
   "cell_type": "code",
   "execution_count": 25,
   "id": "755834e5",
   "metadata": {},
   "outputs": [
    {
     "data": {
      "text/plain": [
       "54"
      ]
     },
     "execution_count": 25,
     "metadata": {},
     "output_type": "execute_result"
    }
   ],
   "source": [
    "rect1.rperim()"
   ]
  },
  {
   "cell_type": "code",
   "execution_count": 26,
   "id": "42186c3b",
   "metadata": {},
   "outputs": [
    {
     "data": {
      "text/plain": [
       "64"
      ]
     },
     "execution_count": 26,
     "metadata": {},
     "output_type": "execute_result"
    }
   ],
   "source": [
    "square1=sq(8)\n",
    "square1.sarea()"
   ]
  },
  {
   "cell_type": "code",
   "execution_count": 27,
   "id": "0a8e4796",
   "metadata": {},
   "outputs": [
    {
     "data": {
      "text/plain": [
       "32"
      ]
     },
     "execution_count": 27,
     "metadata": {},
     "output_type": "execute_result"
    }
   ],
   "source": [
    "square1.sperim()"
   ]
  },
  {
   "cell_type": "markdown",
   "id": "c133b639",
   "metadata": {},
   "source": [
    "## Do with a child and parent class"
   ]
  },
  {
   "cell_type": "code",
   "execution_count": 28,
   "id": "658684ec",
   "metadata": {},
   "outputs": [],
   "source": [
    "class rect():\n",
    "    def __init__(self,length,width):\n",
    "        self.length=length\n",
    "        self.width=width\n",
    "        \n",
    "    def area(self):\n",
    "        return self.length*self.width\n",
    "        \n",
    "    def perim(self):\n",
    "        return (self.length*2)+(self.width*2)\n",
    "    \n",
    "class square(rect):\n",
    "    def __init__(self,length):\n",
    "        super().__init__(length,length)"
   ]
  },
  {
   "cell_type": "code",
   "execution_count": 29,
   "id": "a15639fe",
   "metadata": {},
   "outputs": [
    {
     "data": {
      "text/plain": [
       "144"
      ]
     },
     "execution_count": 29,
     "metadata": {},
     "output_type": "execute_result"
    }
   ],
   "source": [
    "square1=square(12)\n",
    "square1.area()"
   ]
  },
  {
   "cell_type": "code",
   "execution_count": 30,
   "id": "64a1b42e",
   "metadata": {},
   "outputs": [
    {
     "data": {
      "text/plain": [
       "48"
      ]
     },
     "execution_count": 30,
     "metadata": {},
     "output_type": "execute_result"
    }
   ],
   "source": [
    "square1.perim()"
   ]
  },
  {
   "cell_type": "markdown",
   "id": "3bdcfd1c",
   "metadata": {},
   "source": [
    "## Create a simple calculator using classes"
   ]
  },
  {
   "cell_type": "code",
   "execution_count": 31,
   "id": "6ab4b4b1",
   "metadata": {},
   "outputs": [
    {
     "name": "stdout",
     "output_type": "stream",
     "text": [
      "Choose from the following options: \n",
      "1. Addition\n",
      "2. Subtraction\n",
      "3. Multiplication\n",
      "4. Division\n",
      "5. Exit\n",
      "Enter your choice (1-5): 5\n"
     ]
    }
   ],
   "source": [
    "class calc():\n",
    "    def __init__(self,input1,input2):\n",
    "        self.input1=input1\n",
    "        self.input2=input2\n",
    "        \n",
    "    def addition(num1,num2):\n",
    "        print (f'Sum: {num1+num2}')\n",
    "    def subtract(num1,num2):\n",
    "        print (f'Difference: {num1-num2}')\n",
    "    def multiply (num1,num2):\n",
    "        print (f'Product: {num1*num2}')\n",
    "    def divide (num1,num2):\n",
    "        print (f'Quotient: {num1/num2}')\n",
    "    \n",
    "while True:\n",
    "    print('Choose from the following options: ')\n",
    "    print('1. Addition')\n",
    "    print('2. Subtraction')\n",
    "    print('3. Multiplication')\n",
    "    print('4. Division')\n",
    "    print('5. Exit')\n",
    "    \n",
    "    choice=int(input('Enter your choice (1-5): '))\n",
    "    \n",
    "    if choice==1:\n",
    "        num1=int(input('Enter the first number: '))\n",
    "        num2=int(input('Enter the second number: '))\n",
    "        calc.addition (num1,num2)\n",
    "    elif choice==2:\n",
    "        num1=int(input('Enter the first number: '))\n",
    "        num2=int(input('Enter the second number: '))\n",
    "        calc.subtract (num1,num2)\n",
    "    elif choice==3:\n",
    "        num1=int(input('Enter the first number: '))\n",
    "        num2=int(input('Enter the second number: '))\n",
    "        calc.multiply (num1,num2)\n",
    "    elif choice==4:\n",
    "        num1=int(input('Enter the first number: '))\n",
    "        num2=int(input('Enter the second number: '))\n",
    "        if num2==0:\n",
    "            print('Undefined')\n",
    "        else:\n",
    "            calc.divide(num1,num2)\n",
    "    elif choice==5:\n",
    "        break\n",
    "    else:\n",
    "        print('Invalid input')"
   ]
  },
  {
   "cell_type": "code",
   "execution_count": null,
   "id": "a7a954a0",
   "metadata": {},
   "outputs": [],
   "source": []
  },
  {
   "cell_type": "code",
   "execution_count": null,
   "id": "39c3dee9",
   "metadata": {},
   "outputs": [],
   "source": []
  },
  {
   "cell_type": "markdown",
   "id": "0ec161b5",
   "metadata": {},
   "source": [
    "## ATM machine "
   ]
  },
  {
   "cell_type": "code",
   "execution_count": 32,
   "id": "267c3e25",
   "metadata": {},
   "outputs": [],
   "source": [
    "class ATM:\n",
    "    def __init__(self):\n",
    "        self.balance=0\n",
    "        print('Hello, welcome to the ATM machine')\n",
    "    \n",
    "    def deposit(self):\n",
    "        amount=float(input('Enter the amount you would like to be deposited: '))\n",
    "        self.balance+=amount\n",
    "        print('The amount deposited: ', amount)\n",
    "        \n",
    "    def withdrawal(self):\n",
    "        amount=float(input('Enter the amount you would like to be withdrawn: '))\n",
    "        if self.balance>=amount:\n",
    "            self.balance-=amount\n",
    "            print('The amount withdrawn: ', amount)\n",
    "        else:\n",
    "            print('Insufficient funds')\n",
    "    \n",
    "    def display(self):\n",
    "        print('The available balance is: ', self.balance)"
   ]
  },
  {
   "cell_type": "code",
   "execution_count": 33,
   "id": "a6e40459",
   "metadata": {},
   "outputs": [
    {
     "name": "stdout",
     "output_type": "stream",
     "text": [
      "Hello, welcome to the ATM machine\n",
      "Enter the amount you would like to be deposited: 500\n",
      "The amount deposited:  500.0\n",
      "The available balance is:  500.0\n"
     ]
    }
   ],
   "source": [
    "myaccount=ATM()\n",
    "myaccount.deposit()\n",
    "myaccount.display()"
   ]
  },
  {
   "cell_type": "code",
   "execution_count": 34,
   "id": "5349965d",
   "metadata": {},
   "outputs": [
    {
     "name": "stdout",
     "output_type": "stream",
     "text": [
      "Hello, welcome to the ATM machine\n",
      "Enter the amount you would like to be deposited: 500\n",
      "The amount deposited:  500.0\n",
      "The available balance is:  500.0\n"
     ]
    }
   ],
   "source": [
    "myaccount=ATM()\n",
    "myaccount.deposit()\n",
    "myaccount.display()"
   ]
  },
  {
   "cell_type": "code",
   "execution_count": 35,
   "id": "8b2d5567",
   "metadata": {},
   "outputs": [
    {
     "name": "stdout",
     "output_type": "stream",
     "text": [
      "Enter the amount you would like to be withdrawn: 600\n",
      "Insufficient funds\n",
      "The available balance is:  500.0\n"
     ]
    }
   ],
   "source": [
    "myaccount.withdrawal()\n",
    "myaccount.display()"
   ]
  }
 ],
 "metadata": {
  "kernelspec": {
   "display_name": "Python 3 (ipykernel)",
   "language": "python",
   "name": "python3"
  },
  "language_info": {
   "codemirror_mode": {
    "name": "ipython",
    "version": 3
   },
   "file_extension": ".py",
   "mimetype": "text/x-python",
   "name": "python",
   "nbconvert_exporter": "python",
   "pygments_lexer": "ipython3",
   "version": "3.9.12"
  }
 },
 "nbformat": 4,
 "nbformat_minor": 5
}
